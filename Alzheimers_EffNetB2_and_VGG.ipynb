{
 "cells": [
  {
   "cell_type": "code",
   "execution_count": 1,
   "metadata": {
    "execution": {
     "iopub.execute_input": "2024-09-24T02:12:49.498487Z",
     "iopub.status.busy": "2024-09-24T02:12:49.498099Z",
     "iopub.status.idle": "2024-09-24T02:13:06.396343Z",
     "shell.execute_reply": "2024-09-24T02:13:06.395076Z",
     "shell.execute_reply.started": "2024-09-24T02:12:49.498444Z"
    },
    "trusted": true
   },
   "outputs": [
    {
     "name": "stdout",
     "output_type": "stream",
     "text": [
      "Requirement already satisfied: efficientnet_pytorch in c:\\users\\vivek yadav\\appdata\\local\\programs\\python\\python312\\lib\\site-packages (0.7.1)\n",
      "Requirement already satisfied: torch in c:\\users\\vivek yadav\\appdata\\local\\programs\\python\\python312\\lib\\site-packages (from efficientnet_pytorch) (2.7.0)\n",
      "Requirement already satisfied: filelock in c:\\users\\vivek yadav\\appdata\\local\\programs\\python\\python312\\lib\\site-packages (from torch->efficientnet_pytorch) (3.18.0)\n",
      "Requirement already satisfied: typing-extensions>=4.10.0 in c:\\users\\vivek yadav\\appdata\\local\\programs\\python\\python312\\lib\\site-packages (from torch->efficientnet_pytorch) (4.12.2)\n",
      "Requirement already satisfied: sympy>=1.13.3 in c:\\users\\vivek yadav\\appdata\\local\\programs\\python\\python312\\lib\\site-packages (from torch->efficientnet_pytorch) (1.14.0)\n",
      "Requirement already satisfied: networkx in c:\\users\\vivek yadav\\appdata\\local\\programs\\python\\python312\\lib\\site-packages (from torch->efficientnet_pytorch) (3.4.2)\n",
      "Requirement already satisfied: jinja2 in c:\\users\\vivek yadav\\appdata\\local\\programs\\python\\python312\\lib\\site-packages (from torch->efficientnet_pytorch) (3.1.4)\n",
      "Requirement already satisfied: fsspec in c:\\users\\vivek yadav\\appdata\\local\\programs\\python\\python312\\lib\\site-packages (from torch->efficientnet_pytorch) (2025.3.2)\n",
      "Requirement already satisfied: setuptools in c:\\users\\vivek yadav\\appdata\\local\\programs\\python\\python312\\lib\\site-packages (from torch->efficientnet_pytorch) (75.6.0)\n",
      "Requirement already satisfied: mpmath<1.4,>=1.1.0 in c:\\users\\vivek yadav\\appdata\\local\\programs\\python\\python312\\lib\\site-packages (from sympy>=1.13.3->torch->efficientnet_pytorch) (1.3.0)\n",
      "Requirement already satisfied: MarkupSafe>=2.0 in c:\\users\\vivek yadav\\appdata\\local\\programs\\python\\python312\\lib\\site-packages (from jinja2->torch->efficientnet_pytorch) (2.1.5)\n",
      "Note: you may need to restart the kernel to use updated packages.\n"
     ]
    }
   ],
   "source": [
    "pip install efficientnet_pytorch"
   ]
  },
  {
   "cell_type": "code",
   "execution_count": 2,
   "metadata": {},
   "outputs": [
    {
     "name": "stdout",
     "output_type": "stream",
     "text": [
      "Requirement already satisfied: numpy in c:\\users\\vivek yadav\\appdata\\local\\programs\\python\\python312\\lib\\site-packages (2.1.3)\n",
      "Note: you may need to restart the kernel to use updated packages.\n"
     ]
    }
   ],
   "source": [
    "pip install numpy\n"
   ]
  },
  {
   "cell_type": "code",
   "execution_count": null,
   "metadata": {},
   "outputs": [],
   "source": [
    "\n",
    "\n"
   ]
  },
  {
   "cell_type": "code",
   "execution_count": 3,
   "metadata": {
    "_cell_guid": "b1076dfc-b9ad-4769-8c92-a6c4dae69d19",
    "_uuid": "8f2839f25d086af736a60e9eeb907d3b93b6e0e5",
    "execution": {
     "iopub.execute_input": "2024-09-24T02:13:06.399516Z",
     "iopub.status.busy": "2024-09-24T02:13:06.398404Z",
     "iopub.status.idle": "2024-09-24T02:13:12.465819Z",
     "shell.execute_reply": "2024-09-24T02:13:12.464887Z",
     "shell.execute_reply.started": "2024-09-24T02:13:06.399459Z"
    },
    "trusted": true
   },
   "outputs": [],
   "source": [
    "import os\n",
    "import numpy as np\n",
    "import torch\n",
    "import torch.nn as nn\n",
    "import torch.optim as optim\n",
    "from torch.utils.data import Dataset, DataLoader\n",
    "from torchvision import transforms\n",
    "from sklearn.model_selection import train_test_split\n",
    "from imblearn.over_sampling import ADASYN\n",
    "from PIL import Image\n",
    "from tqdm import tqdm\n",
    "from efficientnet_pytorch import EfficientNet"
   ]
  },
  {
   "cell_type": "code",
   "execution_count": 4,
   "metadata": {
    "execution": {
     "iopub.execute_input": "2024-09-24T02:13:12.467318Z",
     "iopub.status.busy": "2024-09-24T02:13:12.466911Z",
     "iopub.status.idle": "2024-09-24T02:13:12.474122Z",
     "shell.execute_reply": "2024-09-24T02:13:12.473108Z",
     "shell.execute_reply.started": "2024-09-24T02:13:12.467283Z"
    },
    "trusted": true
   },
   "outputs": [],
   "source": [
    "# 1. Custom Dataset\n",
    "class AlzheimerDataset(Dataset):\n",
    "    def __init__(self, images, labels, transform=None):\n",
    "        self.images = images\n",
    "        self.labels = labels\n",
    "        self.transform = transform\n",
    "\n",
    "    def __len__(self):\n",
    "        return len(self.images)\n",
    "\n",
    "    def __getitem__(self, idx):\n",
    "        image = self.images[idx]\n",
    "        label = self.labels[idx]\n",
    "        \n",
    "        if self.transform:\n",
    "            image = self.transform(image)\n",
    "        \n",
    "        return image, label"
   ]
  },
  {
   "cell_type": "code",
   "execution_count": 5,
   "metadata": {
    "execution": {
     "iopub.execute_input": "2024-09-24T02:13:12.477552Z",
     "iopub.status.busy": "2024-09-24T02:13:12.477119Z",
     "iopub.status.idle": "2024-09-24T02:13:12.485894Z",
     "shell.execute_reply": "2024-09-24T02:13:12.485049Z",
     "shell.execute_reply.started": "2024-09-24T02:13:12.477507Z"
    },
    "trusted": true
   },
   "outputs": [],
   "source": [
    "# 2. Loading and preprocessing the data\n",
    "def load_and_preprocess_data(data_dir):\n",
    "    classes = ['MildDemented', 'ModerateDemented', 'NonDemented', 'VeryMildDemented']\n",
    "    X = []\n",
    "    y = []\n",
    "    for i, class_name in enumerate(classes):\n",
    "        for split in ['train', 'test']:\n",
    "            class_dir = os.path.join(data_dir, split, class_name)\n",
    "            for img_name in os.listdir(class_dir):\n",
    "                img_path = os.path.join(class_dir, img_name)\n",
    "                img = Image.open(img_path).convert('RGB')\n",
    "                X.append(img)\n",
    "                y.append(i)\n",
    "    return X, np.array(y)"
   ]
  },
  {
   "cell_type": "code",
   "execution_count": 6,
   "metadata": {
    "execution": {
     "iopub.execute_input": "2024-09-24T02:13:12.487248Z",
     "iopub.status.busy": "2024-09-24T02:13:12.486950Z",
     "iopub.status.idle": "2024-09-24T02:13:12.499912Z",
     "shell.execute_reply": "2024-09-24T02:13:12.498928Z",
     "shell.execute_reply.started": "2024-09-24T02:13:12.487217Z"
    },
    "trusted": true
   },
   "outputs": [],
   "source": [
    "import numpy as np\n",
    "from imblearn.over_sampling import ADASYN\n",
    "from PIL import Image\n",
    "\n",
    "def apply_adasyn(X, y):\n",
    "    # Convert PIL Images to numpy arrays\n",
    "    X_arrays = [np.array(img) for img in X]\n",
    "    \n",
    "    # Get the shape of the images\n",
    "    img_shape = X_arrays[0].shape\n",
    "    \n",
    "    # Reshape the arrays to 2D for ADASYN\n",
    "    X_reshaped = np.array([x.flatten() for x in X_arrays])\n",
    "    \n",
    "    # Apply ADASYN\n",
    "    adasyn = ADASYN(random_state=42)\n",
    "    X_resampled, y_resampled = adasyn.fit_resample(X_reshaped, y)\n",
    "    \n",
    "    # Reshape back to original image shape\n",
    "    X_balanced = [x.reshape(img_shape) for x in X_resampled]\n",
    "    \n",
    "    # Convert back to PIL Images\n",
    "    X_balanced = [Image.fromarray(x.astype('uint8')) for x in X_balanced]\n",
    "    \n",
    "    return X_balanced, y_resampled\n",
    "\n",
    "# The rest of the code remains the same"
   ]
  },
  {
   "cell_type": "code",
   "execution_count": 7,
   "metadata": {},
   "outputs": [],
   "source": [
    "from imblearn.over_sampling import SMOTE\n",
    "\n",
    "def apply_smote(X, y):\n",
    "    # Convert PIL Images to numpy arrays\n",
    "    X_arrays = [np.array(img) for img in X]\n",
    "    \n",
    "    # Get the shape of the images\n",
    "    img_shape = X_arrays[0].shape\n",
    "    \n",
    "    # Reshape the arrays to 2D for SMOTE\n",
    "    X_reshaped = np.array([x.flatten() for x in X_arrays])\n",
    "    \n",
    "    # Apply SMOTE\n",
    "    smote = SMOTE(random_state=42)\n",
    "    X_resampled, y_resampled = smote.fit_resample(X_reshaped, y)\n",
    "    \n",
    "    # Reshape back to original image shape\n",
    "    X_balanced = [x.reshape(img_shape) for x in X_resampled]\n",
    "    \n",
    "    # Convert back to PIL Images\n",
    "    X_balanced = [Image.fromarray(x.astype('uint8')) for x in X_balanced]\n",
    "    \n",
    "    return X_balanced, y_resampled\n"
   ]
  },
  {
   "cell_type": "code",
   "execution_count": 8,
   "metadata": {
    "execution": {
     "iopub.execute_input": "2024-09-24T02:13:12.501648Z",
     "iopub.status.busy": "2024-09-24T02:13:12.501171Z",
     "iopub.status.idle": "2024-09-24T02:13:12.513526Z",
     "shell.execute_reply": "2024-09-24T02:13:12.512618Z",
     "shell.execute_reply.started": "2024-09-24T02:13:12.501585Z"
    },
    "trusted": true
   },
   "outputs": [],
   "source": [
    "# 4. Splitting the balanced data\n",
    "def split_data(X, y):\n",
    "    X_train, X_test, y_train, y_test = train_test_split(X, y, test_size=0.2, stratify=y, random_state=42)\n",
    "    X_train, X_val, y_train, y_val = train_test_split(X_train, y_train, test_size=0.125, stratify=y_train, random_state=42)\n",
    "    return X_train, X_val, X_test, y_train, y_val, y_test\n"
   ]
  },
  {
   "cell_type": "code",
   "execution_count": 9,
   "metadata": {
    "execution": {
     "iopub.execute_input": "2024-09-24T02:13:12.515524Z",
     "iopub.status.busy": "2024-09-24T02:13:12.514927Z",
     "iopub.status.idle": "2024-09-24T02:13:12.523456Z",
     "shell.execute_reply": "2024-09-24T02:13:12.522510Z",
     "shell.execute_reply.started": "2024-09-24T02:13:12.515474Z"
    },
    "trusted": true
   },
   "outputs": [],
   "source": [
    "# 5. Creating the model\n",
    "def create_model(num_classes=4):\n",
    "    model = EfficientNet.from_pretrained('efficientnet-b2')\n",
    "    in_features = model._fc.in_features\n",
    "    model._fc = nn.Linear(in_features, num_classes)\n",
    "    return model"
   ]
  },
  {
   "cell_type": "code",
   "execution_count": 10,
   "metadata": {
    "execution": {
     "iopub.execute_input": "2024-09-24T02:13:12.525505Z",
     "iopub.status.busy": "2024-09-24T02:13:12.525156Z",
     "iopub.status.idle": "2024-09-24T02:13:12.540539Z",
     "shell.execute_reply": "2024-09-24T02:13:12.539445Z",
     "shell.execute_reply.started": "2024-09-24T02:13:12.525468Z"
    },
    "trusted": true
   },
   "outputs": [],
   "source": [
    "# 6. Training function\n",
    "def train_model(model, train_loader, val_loader, criterion, optimizer, scheduler, num_epochs=50, device='cuda'):\n",
    "    best_val_loss = float('inf')\n",
    "    patience = 5\n",
    "    counter = 0\n",
    "    \n",
    "    for epoch in range(num_epochs):\n",
    "        model.train()\n",
    "        train_loss = 0.0\n",
    "        train_correct = 0\n",
    "        train_total = 0\n",
    "        \n",
    "        for inputs, labels in tqdm(train_loader, desc=f'Epoch {epoch+1}/{num_epochs}'):\n",
    "            inputs, labels = inputs.to(device), labels.to(device)\n",
    "            \n",
    "            optimizer.zero_grad()\n",
    "            outputs = model(inputs)\n",
    "            loss = criterion(outputs, labels)\n",
    "            loss.backward()\n",
    "            optimizer.step()\n",
    "            \n",
    "            train_loss += loss.item() * inputs.size(0)\n",
    "            _, predicted = outputs.max(1)\n",
    "            train_total += labels.size(0)\n",
    "            train_correct += predicted.eq(labels).sum().item()\n",
    "        \n",
    "        train_loss = train_loss / len(train_loader.dataset)\n",
    "        train_acc = train_correct / train_total\n",
    "        \n",
    "        model.eval()\n",
    "        val_loss = 0.0\n",
    "        val_correct = 0\n",
    "        val_total = 0\n",
    "        \n",
    "        with torch.no_grad():\n",
    "            for inputs, labels in val_loader:\n",
    "                inputs, labels = inputs.to(device), labels.to(device)\n",
    "                outputs = model(inputs)\n",
    "                loss = criterion(outputs, labels)\n",
    "                \n",
    "                val_loss += loss.item() * inputs.size(0)\n",
    "                _, predicted = outputs.max(1)\n",
    "                val_total += labels.size(0)\n",
    "                val_correct += predicted.eq(labels).sum().item()\n",
    "        \n",
    "        val_loss = val_loss / len(val_loader.dataset)\n",
    "        val_acc = val_correct / val_total\n",
    "        \n",
    "        scheduler.step(val_loss)\n",
    "        \n",
    "        print(f'Epoch {epoch+1}/{num_epochs}')\n",
    "        print(f'Train Loss: {train_loss:.4f}, Train Acc: {train_acc:.4f}')\n",
    "        print(f'Val Loss: {val_loss:.4f}, Val Acc: {val_acc:.4f}')\n",
    "        \n",
    "        if val_loss < best_val_loss:\n",
    "            best_val_loss = val_loss\n",
    "            torch.save(model.state_dict(), 'best_model.pth')\n",
    "            counter = 0\n",
    "        else:\n",
    "            counter += 1\n",
    "            if counter >= patience:\n",
    "                print(f'Early stopping after {epoch+1} epochs')\n",
    "                break\n",
    "    \n",
    "    return model"
   ]
  },
  {
   "cell_type": "code",
   "execution_count": 11,
   "metadata": {
    "execution": {
     "iopub.execute_input": "2024-09-24T02:13:12.542652Z",
     "iopub.status.busy": "2024-09-24T02:13:12.542154Z",
     "iopub.status.idle": "2024-09-24T02:13:12.556977Z",
     "shell.execute_reply": "2024-09-24T02:13:12.556025Z",
     "shell.execute_reply.started": "2024-09-24T02:13:12.542601Z"
    },
    "trusted": true
   },
   "outputs": [],
   "source": [
    "# 7. Testing function\n",
    "def test_model(model, test_loader, criterion, device='cuda'):\n",
    "    model.eval()\n",
    "    test_loss = 0.0\n",
    "    test_correct = 0\n",
    "    test_total = 0\n",
    "    \n",
    "    with torch.no_grad():\n",
    "        for inputs, labels in test_loader:\n",
    "            inputs, labels = inputs.to(device), labels.to(device)\n",
    "            outputs = model(inputs)\n",
    "            loss = criterion(outputs, labels)\n",
    "            \n",
    "            test_loss += loss.item() * inputs.size(0)\n",
    "            _, predicted = outputs.max(1)\n",
    "            test_total += labels.size(0)\n",
    "            test_correct += predicted.eq(labels).sum().item()\n",
    "    \n",
    "    test_loss = test_loss / len(test_loader.dataset)\n",
    "    test_acc = test_correct / test_total\n",
    "    \n",
    "    print(f'Test Loss: {test_loss:.4f}, Test Acc: {test_acc:.4f}')"
   ]
  },
  {
   "cell_type": "code",
   "execution_count": null,
   "metadata": {
    "execution": {
     "iopub.execute_input": "2024-09-24T02:13:12.561364Z",
     "iopub.status.busy": "2024-09-24T02:13:12.560973Z",
     "iopub.status.idle": "2024-09-24T02:13:12.609108Z",
     "shell.execute_reply": "2024-09-24T02:13:12.608020Z",
     "shell.execute_reply.started": "2024-09-24T02:13:12.561325Z"
    },
    "trusted": true
   },
   "outputs": [],
   "source": [
    "data_dir = r\"C:\\Users\\dell\\OneDrive\\Desktop\\alzheimers-disease-detection-main\\alzheimers-disease-detection-main\\Combined Dataset\"\n",
    "device = torch.device('cuda' if torch.cuda.is_available() else 'cpu')"
   ]
  },
  {
   "cell_type": "code",
   "execution_count": 13,
   "metadata": {
    "execution": {
     "iopub.execute_input": "2024-09-24T02:13:12.611466Z",
     "iopub.status.busy": "2024-09-24T02:13:12.610708Z",
     "iopub.status.idle": "2024-09-24T02:13:46.809517Z",
     "shell.execute_reply": "2024-09-24T02:13:46.808471Z",
     "shell.execute_reply.started": "2024-09-24T02:13:12.611415Z"
    },
    "trusted": true
   },
   "outputs": [],
   "source": [
    "# Load and preprocess data\n",
    "X, y = load_and_preprocess_data(data_dir)"
   ]
  },
  {
   "cell_type": "code",
   "execution_count": 14,
   "metadata": {
    "execution": {
     "iopub.execute_input": "2024-09-24T02:13:46.811305Z",
     "iopub.status.busy": "2024-09-24T02:13:46.810889Z",
     "iopub.status.idle": "2024-09-24T02:13:46.820147Z",
     "shell.execute_reply": "2024-09-24T02:13:46.818939Z",
     "shell.execute_reply.started": "2024-09-24T02:13:46.811256Z"
    },
    "trusted": true
   },
   "outputs": [
    {
     "data": {
      "text/plain": [
       "2998"
      ]
     },
     "execution_count": 14,
     "metadata": {},
     "output_type": "execute_result"
    }
   ],
   "source": [
    "len(X)"
   ]
  },
  {
   "cell_type": "code",
   "execution_count": 15,
   "metadata": {
    "execution": {
     "iopub.execute_input": "2024-09-24T02:14:05.834117Z",
     "iopub.status.busy": "2024-09-24T02:14:05.833700Z",
     "iopub.status.idle": "2024-09-24T02:14:05.840334Z",
     "shell.execute_reply": "2024-09-24T02:14:05.839335Z",
     "shell.execute_reply.started": "2024-09-24T02:14:05.834059Z"
    },
    "trusted": true
   },
   "outputs": [
    {
     "data": {
      "text/plain": [
       "2998"
      ]
     },
     "execution_count": 15,
     "metadata": {},
     "output_type": "execute_result"
    }
   ],
   "source": [
    "len(y)"
   ]
  },
  {
   "cell_type": "code",
   "execution_count": 17,
   "metadata": {
    "execution": {
     "iopub.execute_input": "2024-09-24T02:14:07.494093Z",
     "iopub.status.busy": "2024-09-24T02:14:07.493680Z",
     "iopub.status.idle": "2024-09-24T02:15:21.557314Z",
     "shell.execute_reply": "2024-09-24T02:15:21.556415Z",
     "shell.execute_reply.started": "2024-09-24T02:14:07.494058Z"
    },
    "trusted": true
   },
   "outputs": [],
   "source": [
    "# Apply ADASYN\n",
    "X_balanced, y_balanced = apply_smote(X, y)"
   ]
  },
  {
   "cell_type": "code",
   "execution_count": 18,
   "metadata": {
    "execution": {
     "iopub.execute_input": "2024-09-24T02:15:21.560358Z",
     "iopub.status.busy": "2024-09-24T02:15:21.559647Z",
     "iopub.status.idle": "2024-09-24T02:15:21.566426Z",
     "shell.execute_reply": "2024-09-24T02:15:21.565351Z",
     "shell.execute_reply.started": "2024-09-24T02:15:21.560288Z"
    },
    "trusted": true
   },
   "outputs": [
    {
     "data": {
      "text/plain": [
       "4324"
      ]
     },
     "execution_count": 18,
     "metadata": {},
     "output_type": "execute_result"
    }
   ],
   "source": [
    "len(X_balanced)"
   ]
  },
  {
   "cell_type": "code",
   "execution_count": 19,
   "metadata": {
    "execution": {
     "iopub.execute_input": "2024-09-24T02:15:21.567986Z",
     "iopub.status.busy": "2024-09-24T02:15:21.567614Z",
     "iopub.status.idle": "2024-09-24T02:15:21.579469Z",
     "shell.execute_reply": "2024-09-24T02:15:21.578627Z",
     "shell.execute_reply.started": "2024-09-24T02:15:21.567952Z"
    },
    "trusted": true
   },
   "outputs": [
    {
     "data": {
      "text/plain": [
       "4324"
      ]
     },
     "execution_count": 19,
     "metadata": {},
     "output_type": "execute_result"
    }
   ],
   "source": [
    "len(y_balanced)"
   ]
  },
  {
   "cell_type": "code",
   "execution_count": 20,
   "metadata": {
    "execution": {
     "iopub.execute_input": "2024-09-24T02:15:21.582327Z",
     "iopub.status.busy": "2024-09-24T02:15:21.581908Z",
     "iopub.status.idle": "2024-09-24T02:15:21.606470Z",
     "shell.execute_reply": "2024-09-24T02:15:21.605495Z",
     "shell.execute_reply.started": "2024-09-24T02:15:21.582289Z"
    },
    "trusted": true
   },
   "outputs": [],
   "source": [
    "# Split data\n",
    "X_train, X_val, X_test, y_train, y_val, y_test = split_data(X_balanced, y_balanced)"
   ]
  },
  {
   "cell_type": "code",
   "execution_count": 21,
   "metadata": {
    "execution": {
     "iopub.execute_input": "2024-09-24T02:15:21.608065Z",
     "iopub.status.busy": "2024-09-24T02:15:21.607702Z",
     "iopub.status.idle": "2024-09-24T02:15:21.613854Z",
     "shell.execute_reply": "2024-09-24T02:15:21.612953Z",
     "shell.execute_reply.started": "2024-09-24T02:15:21.608022Z"
    },
    "trusted": true
   },
   "outputs": [],
   "source": [
    "# Define transforms\n",
    "transform = transforms.Compose([\n",
    "        transforms.Resize((224, 224)),\n",
    "        transforms.ToTensor(),\n",
    "        transforms.Normalize(mean=[0.485, 0.456, 0.406], std=[0.229, 0.224, 0.225])\n",
    "    ])"
   ]
  },
  {
   "cell_type": "code",
   "execution_count": 22,
   "metadata": {
    "execution": {
     "iopub.execute_input": "2024-09-24T02:15:21.615387Z",
     "iopub.status.busy": "2024-09-24T02:15:21.615013Z",
     "iopub.status.idle": "2024-09-24T02:15:21.624738Z",
     "shell.execute_reply": "2024-09-24T02:15:21.623792Z",
     "shell.execute_reply.started": "2024-09-24T02:15:21.615341Z"
    },
    "trusted": true
   },
   "outputs": [],
   "source": [
    "batch_size = 32\n",
    "\n",
    "# Create datasets\n",
    "train_dataset = AlzheimerDataset(X_train, y_train, transform=transform)\n",
    "val_dataset = AlzheimerDataset(X_val, y_val, transform=transform)\n",
    "test_dataset = AlzheimerDataset(X_test, y_test, transform=transform)\n",
    "    \n",
    "# Create data loaders\n",
    "train_loader = DataLoader(train_dataset, batch_size=batch_size, shuffle=True, num_workers=4)\n",
    "val_loader = DataLoader(val_dataset, batch_size=batch_size, shuffle=False, num_workers=4)\n",
    "test_loader = DataLoader(test_dataset, batch_size=batch_size, shuffle=False, num_workers=4)    "
   ]
  },
  {
   "cell_type": "code",
   "execution_count": 23,
   "metadata": {
    "execution": {
     "iopub.execute_input": "2024-09-24T02:15:21.628133Z",
     "iopub.status.busy": "2024-09-24T02:15:21.625959Z",
     "iopub.status.idle": "2024-09-24T02:15:22.599637Z",
     "shell.execute_reply": "2024-09-24T02:15:22.598391Z",
     "shell.execute_reply.started": "2024-09-24T02:15:21.628089Z"
    },
    "trusted": true
   },
   "outputs": [
    {
     "name": "stdout",
     "output_type": "stream",
     "text": [
      "Loaded pretrained weights for efficientnet-b2\n"
     ]
    }
   ],
   "source": [
    "# Create model\n",
    "model = create_model().to(device)"
   ]
  },
  {
   "cell_type": "code",
   "execution_count": 24,
   "metadata": {
    "execution": {
     "iopub.execute_input": "2024-09-24T02:15:22.601414Z",
     "iopub.status.busy": "2024-09-24T02:15:22.600989Z",
     "iopub.status.idle": "2024-09-24T02:15:22.611509Z",
     "shell.execute_reply": "2024-09-24T02:15:22.610181Z",
     "shell.execute_reply.started": "2024-09-24T02:15:22.601349Z"
    },
    "trusted": true
   },
   "outputs": [],
   "source": [
    "# Define loss function and optimizer\n",
    "criterion = nn.CrossEntropyLoss()\n",
    "optimizer = optim.Adam(model.parameters(), lr=0.001)\n",
    "scheduler = optim.lr_scheduler.ReduceLROnPlateau(optimizer, mode='min', factor=0.1, patience=5)    "
   ]
  },
  {
   "cell_type": "code",
   "execution_count": null,
   "metadata": {
    "execution": {
     "iopub.execute_input": "2024-09-24T02:15:22.613826Z",
     "iopub.status.busy": "2024-09-24T02:15:22.613063Z",
     "iopub.status.idle": "2024-09-24T02:34:04.370736Z",
     "shell.execute_reply": "2024-09-24T02:34:04.369355Z",
     "shell.execute_reply.started": "2024-09-24T02:15:22.613777Z"
    },
    "trusted": true
   },
   "outputs": [
    {
     "name": "stderr",
     "output_type": "stream",
     "text": [
      "Epoch 1/50:   0%|          | 0/95 [00:00<?, ?it/s]"
     ]
    }
   ],
   "source": [
    "# Train model\n",
    "trained_model = train_model(model, train_loader, val_loader, criterion, optimizer, scheduler)"
   ]
  },
  {
   "cell_type": "code",
   "execution_count": 25,
   "metadata": {
    "execution": {
     "iopub.execute_input": "2024-09-24T02:34:04.374439Z",
     "iopub.status.busy": "2024-09-24T02:34:04.374088Z",
     "iopub.status.idle": "2024-09-24T02:34:10.149434Z",
     "shell.execute_reply": "2024-09-24T02:34:10.148134Z",
     "shell.execute_reply.started": "2024-09-24T02:34:04.374403Z"
    },
    "trusted": true
   },
   "outputs": [
    {
     "name": "stdout",
     "output_type": "stream",
     "text": [
      "Loaded pretrained weights for efficientnet-b2\n"
     ]
    },
    {
     "name": "stderr",
     "output_type": "stream",
     "text": [
      "/tmp/ipykernel_30/4122861454.py:3: FutureWarning: You are using `torch.load` with `weights_only=False` (the current default value), which uses the default pickle module implicitly. It is possible to construct malicious pickle data which will execute arbitrary code during unpickling (See https://github.com/pytorch/pytorch/blob/main/SECURITY.md#untrusted-models for more details). In a future release, the default value for `weights_only` will be flipped to `True`. This limits the functions that could be executed during unpickling. Arbitrary objects will no longer be allowed to be loaded via this mode unless they are explicitly allowlisted by the user via `torch.serialization.add_safe_globals`. We recommend you start setting `weights_only=True` for any use case where you don't have full control of the loaded file. Please open an issue on GitHub for any issues related to this experimental feature.\n",
      "  best_model.load_state_dict(torch.load('best_model.pth'))\n"
     ]
    },
    {
     "name": "stdout",
     "output_type": "stream",
     "text": [
      "Test Loss: 0.0463, Test Acc: 0.9844\n"
     ]
    }
   ],
   "source": [
    "# Load best model and test\n",
    "best_model = create_model().to(device)\n",
    "best_model.load_state_dict(torch.load('best_model.pth'))\n",
    "test_model(best_model, test_loader, criterion)"
   ]
  },
  {
   "cell_type": "code",
   "execution_count": 33,
   "metadata": {
    "execution": {
     "iopub.execute_input": "2024-09-24T02:58:28.034707Z",
     "iopub.status.busy": "2024-09-24T02:58:28.033935Z",
     "iopub.status.idle": "2024-09-24T02:58:28.040184Z",
     "shell.execute_reply": "2024-09-24T02:58:28.039133Z",
     "shell.execute_reply.started": "2024-09-24T02:58:28.034660Z"
    },
    "trusted": true
   },
   "outputs": [],
   "source": [
    "# Update the imports\n",
    "from torchvision import models\n",
    "\n",
    "# Replace the create_model function with this:\n",
    "def create_model(num_classes=4):\n",
    "    model = models.vgg16(pretrained=True)\n",
    "    num_features = model.classifier[6].in_features\n",
    "    model.classifier[6] = nn.Linear(num_features, num_classes)\n",
    "    return model"
   ]
  },
  {
   "cell_type": "code",
   "execution_count": 34,
   "metadata": {
    "execution": {
     "iopub.execute_input": "2024-09-24T02:58:29.354234Z",
     "iopub.status.busy": "2024-09-24T02:58:29.353786Z",
     "iopub.status.idle": "2024-09-24T02:58:31.056393Z",
     "shell.execute_reply": "2024-09-24T02:58:31.055444Z",
     "shell.execute_reply.started": "2024-09-24T02:58:29.354196Z"
    },
    "trusted": true
   },
   "outputs": [],
   "source": [
    "# Create model\n",
    "model = create_model().to(device)"
   ]
  },
  {
   "cell_type": "code",
   "execution_count": 35,
   "metadata": {
    "execution": {
     "iopub.execute_input": "2024-09-24T02:58:32.314953Z",
     "iopub.status.busy": "2024-09-24T02:58:32.314082Z",
     "iopub.status.idle": "2024-09-24T02:58:32.321462Z",
     "shell.execute_reply": "2024-09-24T02:58:32.320364Z",
     "shell.execute_reply.started": "2024-09-24T02:58:32.314906Z"
    },
    "trusted": true
   },
   "outputs": [],
   "source": [
    "# Define loss function and optimizer\n",
    "criterion = nn.CrossEntropyLoss()\n",
    "optimizer = optim.Adam(model.parameters(), lr=0.001)\n",
    "scheduler = optim.lr_scheduler.ReduceLROnPlateau(optimizer, mode='min', factor=0.1, patience=5)    "
   ]
  },
  {
   "cell_type": "code",
   "execution_count": 36,
   "metadata": {
    "execution": {
     "iopub.execute_input": "2024-09-24T02:58:32.714790Z",
     "iopub.status.busy": "2024-09-24T02:58:32.714352Z",
     "iopub.status.idle": "2024-09-24T03:38:51.704990Z",
     "shell.execute_reply": "2024-09-24T03:38:51.703490Z",
     "shell.execute_reply.started": "2024-09-24T02:58:32.714751Z"
    },
    "trusted": true
   },
   "outputs": [
    {
     "name": "stderr",
     "output_type": "stream",
     "text": [
      "Epoch 1/50: 100%|██████████| 281/281 [01:13<00:00,  3.84it/s]\n"
     ]
    },
    {
     "name": "stdout",
     "output_type": "stream",
     "text": [
      "Epoch 1/50\n",
      "Train Loss: 1.1763, Train Acc: 0.4378\n",
      "Val Loss: 1.0281, Val Acc: 0.4965\n"
     ]
    },
    {
     "name": "stderr",
     "output_type": "stream",
     "text": [
      "Epoch 2/50: 100%|██████████| 281/281 [01:13<00:00,  3.84it/s]\n"
     ]
    },
    {
     "name": "stdout",
     "output_type": "stream",
     "text": [
      "Epoch 2/50\n",
      "Train Loss: 0.9633, Train Acc: 0.5391\n",
      "Val Loss: 0.7881, Val Acc: 0.6230\n"
     ]
    },
    {
     "name": "stderr",
     "output_type": "stream",
     "text": [
      "Epoch 3/50: 100%|██████████| 281/281 [01:13<00:00,  3.83it/s]\n"
     ]
    },
    {
     "name": "stdout",
     "output_type": "stream",
     "text": [
      "Epoch 3/50\n",
      "Train Loss: 0.8123, Train Acc: 0.6219\n",
      "Val Loss: 0.7155, Val Acc: 0.6620\n"
     ]
    },
    {
     "name": "stderr",
     "output_type": "stream",
     "text": [
      "Epoch 4/50: 100%|██████████| 281/281 [01:13<00:00,  3.83it/s]\n"
     ]
    },
    {
     "name": "stdout",
     "output_type": "stream",
     "text": [
      "Epoch 4/50\n",
      "Train Loss: 0.7114, Train Acc: 0.6586\n",
      "Val Loss: 0.6923, Val Acc: 0.6651\n"
     ]
    },
    {
     "name": "stderr",
     "output_type": "stream",
     "text": [
      "Epoch 5/50: 100%|██████████| 281/281 [01:13<00:00,  3.83it/s]\n"
     ]
    },
    {
     "name": "stdout",
     "output_type": "stream",
     "text": [
      "Epoch 5/50\n",
      "Train Loss: 0.7147, Train Acc: 0.6634\n",
      "Val Loss: 0.6930, Val Acc: 0.6628\n"
     ]
    },
    {
     "name": "stderr",
     "output_type": "stream",
     "text": [
      "Epoch 6/50: 100%|██████████| 281/281 [01:13<00:00,  3.83it/s]\n"
     ]
    },
    {
     "name": "stdout",
     "output_type": "stream",
     "text": [
      "Epoch 6/50\n",
      "Train Loss: 0.6907, Train Acc: 0.6689\n",
      "Val Loss: 0.6691, Val Acc: 0.6776\n"
     ]
    },
    {
     "name": "stderr",
     "output_type": "stream",
     "text": [
      "Epoch 7/50: 100%|██████████| 281/281 [01:13<00:00,  3.84it/s]\n"
     ]
    },
    {
     "name": "stdout",
     "output_type": "stream",
     "text": [
      "Epoch 7/50\n",
      "Train Loss: 0.6731, Train Acc: 0.6807\n",
      "Val Loss: 0.6663, Val Acc: 0.6604\n"
     ]
    },
    {
     "name": "stderr",
     "output_type": "stream",
     "text": [
      "Epoch 8/50: 100%|██████████| 281/281 [01:13<00:00,  3.83it/s]\n"
     ]
    },
    {
     "name": "stdout",
     "output_type": "stream",
     "text": [
      "Epoch 8/50\n",
      "Train Loss: 0.6385, Train Acc: 0.7031\n",
      "Val Loss: 0.6224, Val Acc: 0.6877\n"
     ]
    },
    {
     "name": "stderr",
     "output_type": "stream",
     "text": [
      "Epoch 9/50: 100%|██████████| 281/281 [01:13<00:00,  3.83it/s]\n"
     ]
    },
    {
     "name": "stdout",
     "output_type": "stream",
     "text": [
      "Epoch 9/50\n",
      "Train Loss: 0.6202, Train Acc: 0.7061\n",
      "Val Loss: 0.6190, Val Acc: 0.7104\n"
     ]
    },
    {
     "name": "stderr",
     "output_type": "stream",
     "text": [
      "Epoch 10/50: 100%|██████████| 281/281 [01:13<00:00,  3.84it/s]\n"
     ]
    },
    {
     "name": "stdout",
     "output_type": "stream",
     "text": [
      "Epoch 10/50\n",
      "Train Loss: 0.5950, Train Acc: 0.7262\n",
      "Val Loss: 0.7466, Val Acc: 0.6682\n"
     ]
    },
    {
     "name": "stderr",
     "output_type": "stream",
     "text": [
      "Epoch 11/50: 100%|██████████| 281/281 [01:13<00:00,  3.84it/s]\n"
     ]
    },
    {
     "name": "stdout",
     "output_type": "stream",
     "text": [
      "Epoch 11/50\n",
      "Train Loss: 0.5523, Train Acc: 0.7458\n",
      "Val Loss: 0.5347, Val Acc: 0.7572\n"
     ]
    },
    {
     "name": "stderr",
     "output_type": "stream",
     "text": [
      "Epoch 12/50: 100%|██████████| 281/281 [01:13<00:00,  3.83it/s]\n"
     ]
    },
    {
     "name": "stdout",
     "output_type": "stream",
     "text": [
      "Epoch 12/50\n",
      "Train Loss: 0.4922, Train Acc: 0.7804\n",
      "Val Loss: 0.5410, Val Acc: 0.7627\n"
     ]
    },
    {
     "name": "stderr",
     "output_type": "stream",
     "text": [
      "Epoch 13/50: 100%|██████████| 281/281 [01:13<00:00,  3.83it/s]\n"
     ]
    },
    {
     "name": "stdout",
     "output_type": "stream",
     "text": [
      "Epoch 13/50\n",
      "Train Loss: 0.4697, Train Acc: 0.7944\n",
      "Val Loss: 0.5352, Val Acc: 0.7728\n"
     ]
    },
    {
     "name": "stderr",
     "output_type": "stream",
     "text": [
      "Epoch 14/50: 100%|██████████| 281/281 [01:13<00:00,  3.83it/s]\n"
     ]
    },
    {
     "name": "stdout",
     "output_type": "stream",
     "text": [
      "Epoch 14/50\n",
      "Train Loss: 0.4056, Train Acc: 0.8231\n",
      "Val Loss: 0.5152, Val Acc: 0.7900\n"
     ]
    },
    {
     "name": "stderr",
     "output_type": "stream",
     "text": [
      "Epoch 15/50: 100%|██████████| 281/281 [01:13<00:00,  3.83it/s]\n"
     ]
    },
    {
     "name": "stdout",
     "output_type": "stream",
     "text": [
      "Epoch 15/50\n",
      "Train Loss: 0.3626, Train Acc: 0.8449\n",
      "Val Loss: 0.5522, Val Acc: 0.7611\n"
     ]
    },
    {
     "name": "stderr",
     "output_type": "stream",
     "text": [
      "Epoch 16/50: 100%|██████████| 281/281 [01:13<00:00,  3.84it/s]\n"
     ]
    },
    {
     "name": "stdout",
     "output_type": "stream",
     "text": [
      "Epoch 16/50\n",
      "Train Loss: 0.3920, Train Acc: 0.8399\n",
      "Val Loss: 0.4860, Val Acc: 0.8111\n"
     ]
    },
    {
     "name": "stderr",
     "output_type": "stream",
     "text": [
      "Epoch 17/50: 100%|██████████| 281/281 [01:13<00:00,  3.84it/s]\n"
     ]
    },
    {
     "name": "stdout",
     "output_type": "stream",
     "text": [
      "Epoch 17/50\n",
      "Train Loss: 0.3004, Train Acc: 0.8798\n",
      "Val Loss: 0.4826, Val Acc: 0.8283\n"
     ]
    },
    {
     "name": "stderr",
     "output_type": "stream",
     "text": [
      "Epoch 18/50: 100%|██████████| 281/281 [01:13<00:00,  3.84it/s]\n"
     ]
    },
    {
     "name": "stdout",
     "output_type": "stream",
     "text": [
      "Epoch 18/50\n",
      "Train Loss: 0.2488, Train Acc: 0.9039\n",
      "Val Loss: 0.4917, Val Acc: 0.8345\n"
     ]
    },
    {
     "name": "stderr",
     "output_type": "stream",
     "text": [
      "Epoch 19/50: 100%|██████████| 281/281 [01:13<00:00,  3.84it/s]\n"
     ]
    },
    {
     "name": "stdout",
     "output_type": "stream",
     "text": [
      "Epoch 19/50\n",
      "Train Loss: 0.1942, Train Acc: 0.9275\n",
      "Val Loss: 0.4755, Val Acc: 0.8423\n"
     ]
    },
    {
     "name": "stderr",
     "output_type": "stream",
     "text": [
      "Epoch 20/50: 100%|██████████| 281/281 [01:13<00:00,  3.84it/s]\n"
     ]
    },
    {
     "name": "stdout",
     "output_type": "stream",
     "text": [
      "Epoch 20/50\n",
      "Train Loss: 0.1999, Train Acc: 0.9218\n",
      "Val Loss: 0.4579, Val Acc: 0.8407\n"
     ]
    },
    {
     "name": "stderr",
     "output_type": "stream",
     "text": [
      "Epoch 21/50: 100%|██████████| 281/281 [01:13<00:00,  3.83it/s]\n"
     ]
    },
    {
     "name": "stdout",
     "output_type": "stream",
     "text": [
      "Epoch 21/50\n",
      "Train Loss: 0.1567, Train Acc: 0.9409\n",
      "Val Loss: 0.5076, Val Acc: 0.8368\n"
     ]
    },
    {
     "name": "stderr",
     "output_type": "stream",
     "text": [
      "Epoch 22/50: 100%|██████████| 281/281 [01:13<00:00,  3.84it/s]\n"
     ]
    },
    {
     "name": "stdout",
     "output_type": "stream",
     "text": [
      "Epoch 22/50\n",
      "Train Loss: 0.1388, Train Acc: 0.9489\n",
      "Val Loss: 0.5611, Val Acc: 0.8603\n"
     ]
    },
    {
     "name": "stderr",
     "output_type": "stream",
     "text": [
      "Epoch 23/50: 100%|██████████| 281/281 [01:13<00:00,  3.84it/s]\n"
     ]
    },
    {
     "name": "stdout",
     "output_type": "stream",
     "text": [
      "Epoch 23/50\n",
      "Train Loss: 0.1151, Train Acc: 0.9569\n",
      "Val Loss: 0.5424, Val Acc: 0.8532\n"
     ]
    },
    {
     "name": "stderr",
     "output_type": "stream",
     "text": [
      "Epoch 24/50: 100%|██████████| 281/281 [01:13<00:00,  3.84it/s]\n"
     ]
    },
    {
     "name": "stdout",
     "output_type": "stream",
     "text": [
      "Epoch 24/50\n",
      "Train Loss: 0.1036, Train Acc: 0.9639\n",
      "Val Loss: 0.5819, Val Acc: 0.8493\n"
     ]
    },
    {
     "name": "stderr",
     "output_type": "stream",
     "text": [
      "Epoch 25/50: 100%|██████████| 281/281 [01:13<00:00,  3.84it/s]\n"
     ]
    },
    {
     "name": "stdout",
     "output_type": "stream",
     "text": [
      "Epoch 25/50\n",
      "Train Loss: 0.0970, Train Acc: 0.9673\n",
      "Val Loss: 0.4147, Val Acc: 0.8696\n"
     ]
    },
    {
     "name": "stderr",
     "output_type": "stream",
     "text": [
      "Epoch 26/50: 100%|██████████| 281/281 [01:13<00:00,  3.84it/s]\n"
     ]
    },
    {
     "name": "stdout",
     "output_type": "stream",
     "text": [
      "Epoch 26/50\n",
      "Train Loss: 0.0709, Train Acc: 0.9759\n",
      "Val Loss: 0.3893, Val Acc: 0.8868\n"
     ]
    },
    {
     "name": "stderr",
     "output_type": "stream",
     "text": [
      "Epoch 27/50: 100%|██████████| 281/281 [01:13<00:00,  3.84it/s]\n"
     ]
    },
    {
     "name": "stdout",
     "output_type": "stream",
     "text": [
      "Epoch 27/50\n",
      "Train Loss: 0.0784, Train Acc: 0.9732\n",
      "Val Loss: 0.5085, Val Acc: 0.8610\n"
     ]
    },
    {
     "name": "stderr",
     "output_type": "stream",
     "text": [
      "Epoch 28/50: 100%|██████████| 281/281 [01:13<00:00,  3.84it/s]\n"
     ]
    },
    {
     "name": "stdout",
     "output_type": "stream",
     "text": [
      "Epoch 28/50\n",
      "Train Loss: 0.0780, Train Acc: 0.9715\n",
      "Val Loss: 0.4873, Val Acc: 0.8493\n"
     ]
    },
    {
     "name": "stderr",
     "output_type": "stream",
     "text": [
      "Epoch 29/50: 100%|██████████| 281/281 [01:13<00:00,  3.84it/s]\n"
     ]
    },
    {
     "name": "stdout",
     "output_type": "stream",
     "text": [
      "Epoch 29/50\n",
      "Train Loss: 0.1013, Train Acc: 0.9662\n",
      "Val Loss: 1.3291, Val Acc: 0.6214\n"
     ]
    },
    {
     "name": "stderr",
     "output_type": "stream",
     "text": [
      "Epoch 30/50: 100%|██████████| 281/281 [01:13<00:00,  3.84it/s]\n"
     ]
    },
    {
     "name": "stdout",
     "output_type": "stream",
     "text": [
      "Epoch 30/50\n",
      "Train Loss: 0.1089, Train Acc: 0.9621\n",
      "Val Loss: 0.3930, Val Acc: 0.8829\n"
     ]
    },
    {
     "name": "stderr",
     "output_type": "stream",
     "text": [
      "Epoch 31/50: 100%|██████████| 281/281 [01:13<00:00,  3.84it/s]\n"
     ]
    },
    {
     "name": "stdout",
     "output_type": "stream",
     "text": [
      "Epoch 31/50\n",
      "Train Loss: 0.0437, Train Acc: 0.9850\n",
      "Val Loss: 0.4688, Val Acc: 0.8798\n",
      "Early stopping after 31 epochs\n"
     ]
    }
   ],
   "source": [
    "# Train model\n",
    "trained_model = train_model(model, train_loader, val_loader, criterion, optimizer, scheduler)"
   ]
  },
  {
   "cell_type": "code",
   "execution_count": 37,
   "metadata": {
    "execution": {
     "iopub.execute_input": "2024-09-24T03:38:51.708766Z",
     "iopub.status.busy": "2024-09-24T03:38:51.707881Z",
     "iopub.status.idle": "2024-09-24T03:39:01.516018Z",
     "shell.execute_reply": "2024-09-24T03:39:01.514809Z",
     "shell.execute_reply.started": "2024-09-24T03:38:51.708714Z"
    },
    "trusted": true
   },
   "outputs": [
    {
     "name": "stderr",
     "output_type": "stream",
     "text": [
      "/tmp/ipykernel_30/4122861454.py:3: FutureWarning: You are using `torch.load` with `weights_only=False` (the current default value), which uses the default pickle module implicitly. It is possible to construct malicious pickle data which will execute arbitrary code during unpickling (See https://github.com/pytorch/pytorch/blob/main/SECURITY.md#untrusted-models for more details). In a future release, the default value for `weights_only` will be flipped to `True`. This limits the functions that could be executed during unpickling. Arbitrary objects will no longer be allowed to be loaded via this mode unless they are explicitly allowlisted by the user via `torch.serialization.add_safe_globals`. We recommend you start setting `weights_only=True` for any use case where you don't have full control of the loaded file. Please open an issue on GitHub for any issues related to this experimental feature.\n",
      "  best_model.load_state_dict(torch.load('best_model.pth'))\n"
     ]
    },
    {
     "name": "stdout",
     "output_type": "stream",
     "text": [
      "Test Loss: 0.4044, Test Acc: 0.8778\n"
     ]
    }
   ],
   "source": [
    "# Load best model and test\n",
    "best_model = create_model().to(device)\n",
    "best_model.load_state_dict(torch.load('best_model.pth'))\n",
    "test_model(best_model, test_loader, criterion)"
   ]
  },
  {
   "cell_type": "code",
   "execution_count": null,
   "metadata": {},
   "outputs": [],
   "source": []
  }
 ],
 "metadata": {
  "kaggle": {
   "accelerator": "gpu",
   "dataSources": [
    {
     "datasetId": 457093,
     "sourceId": 861496,
     "sourceType": "datasetVersion"
    }
   ],
   "dockerImageVersionId": 30776,
   "isGpuEnabled": true,
   "isInternetEnabled": true,
   "language": "python",
   "sourceType": "notebook"
  },
  "kernelspec": {
   "display_name": "Python 3",
   "language": "python",
   "name": "python3"
  },
  "language_info": {
   "codemirror_mode": {
    "name": "ipython",
    "version": 3
   },
   "file_extension": ".py",
   "mimetype": "text/x-python",
   "name": "python",
   "nbconvert_exporter": "python",
   "pygments_lexer": "ipython3",
   "version": "3.12.4"
  }
 },
 "nbformat": 4,
 "nbformat_minor": 4
}
